{
 "cells": [
  {
   "cell_type": "code",
   "execution_count": null,
   "metadata": {},
   "outputs": [],
   "source": [
    "ARCHITECTURE = 'CNN'\n",
    "ITERATIONS = 1"
   ]
  },
  {
   "cell_type": "code",
   "execution_count": null,
   "metadata": {},
   "outputs": [],
   "source": [
    "from __future__ import absolute_import, division, print_function, unicode_literals\n",
    "\n",
    "import tensorflow as tf\n",
    "\n",
    "\n",
    "from helperfiles.helpers import *\n",
    "import helperfiles.experiment as experiment\n",
    "\n",
    "\n",
    "\n",
    "#tf.compat.v1.enable_eager_execution()\n",
    "tf.keras.backend.clear_session()  # For easy reset of notebook state."
   ]
  },
  {
   "cell_type": "code",
   "execution_count": null,
   "metadata": {},
   "outputs": [],
   "source": []
  },
  {
   "cell_type": "code",
   "execution_count": null,
   "metadata": {},
   "outputs": [],
   "source": [
    "gpus = tf.config.experimental.list_physical_devices('GPU')\n",
    "if gpus:\n",
    "    # Restrict TensorFlow to only allocate 1GB * 2 of memory on the first GPU\n",
    "    try:\n",
    "        tf.config.experimental.set_virtual_device_configuration(\n",
    "            gpus[0],\n",
    "            [tf.config.experimental.VirtualDeviceConfiguration(memory_limit=1024 * 1.5)])\n",
    "        logical_gpus = tf.config.experimental.list_logical_devices('GPU')\n",
    "        print(len(gpus), \"Physical GPUs,\", len(logical_gpus), \"Logical GPUs\")\n",
    "    except RuntimeError as e:\n",
    "        # Virtual devices must be set before GPUs have been initialized\n",
    "        print(e)\n"
   ]
  },
  {
   "cell_type": "markdown",
   "metadata": {},
   "source": [
    "unstructured:\n",
    "    -random:\n",
    "        -local\n",
    "    -magnitude:\n",
    "        -local\n",
    "        -global\n",
    "structured:\n",
    "    -random:\n",
    "        - local:\n",
    "            -kernel\n",
    "            -filter\n",
    "    -magnitude:\n",
    "        -local:\n",
    "            -kernel\n",
    "            -filter\n",
    "        -global:\n",
    "            -kernel\n",
    "            -filter"
   ]
  },
  {
   "cell_type": "code",
   "execution_count": null,
   "metadata": {
    "scrolled": true
   },
   "outputs": [],
   "source": [
    "experiment.run(\n",
    "    structure='unstructured', \n",
    "    method='random', \n",
    "    scope='local', \n",
    "    iterations=ITERATIONS,\n",
    "    architecture = ARCHITECTURE,\n",
    ")"
   ]
  },
  {
   "cell_type": "code",
   "execution_count": null,
   "metadata": {},
   "outputs": [],
   "source": [
    "experiment.run(\n",
    "    \n",
    "    structure='unstructured', \n",
    "    method='magnitude', \n",
    "    scope='local', \n",
    "    iterations=ITERATIONS,\n",
    "    architecture = ARCHITECTURE,\n",
    ")"
   ]
  },
  {
   "cell_type": "code",
   "execution_count": null,
   "metadata": {},
   "outputs": [],
   "source": [
    "experiment.run(\n",
    "    structure='unstructured', \n",
    "    method='magnitude', \n",
    "    scope='global', \n",
    "    iterations=ITERATIONS,\n",
    "    architecture = ARCHITECTURE,\n",
    ")"
   ]
  },
  {
   "cell_type": "code",
   "execution_count": null,
   "metadata": {
    "scrolled": true
   },
   "outputs": [],
   "source": [
    "experiment.run(\n",
    "    structure='structured',\n",
    "    method='random', \n",
    "    scope='local', \n",
    "    structure_to_prune='kernel',\n",
    "    prune_dense_layers=False,\n",
    "    iterations=ITERATIONS,\n",
    "    architecture = ARCHITECTURE,\n",
    ")"
   ]
  },
  {
   "cell_type": "code",
   "execution_count": null,
   "metadata": {
    "scrolled": true
   },
   "outputs": [],
   "source": [
    "experiment.run(\n",
    "    structure='structured',\n",
    "    method='random', \n",
    "    scope='local', \n",
    "    structure_to_prune='filter',\n",
    "    prune_dense_layers=False,\n",
    "    iterations=ITERATIONS,\n",
    "    architecture = ARCHITECTURE,\n",
    ")"
   ]
  },
  {
   "cell_type": "code",
   "execution_count": null,
   "metadata": {},
   "outputs": [],
   "source": [
    "experiment.run(\n",
    "    structure='structured',\n",
    "    method='magnitude', \n",
    "    scope='local', \n",
    "    structure_to_prune='filter',\n",
    "    prune_dense_layers=False,\n",
    "    iterations=ITERATIONS,\n",
    "    architecture = ARCHITECTURE,\n",
    ")"
   ]
  },
  {
   "cell_type": "code",
   "execution_count": null,
   "metadata": {},
   "outputs": [],
   "source": [
    "experiment.run(\n",
    "    structure='structured',\n",
    "    method='magnitude', \n",
    "    scope='local', \n",
    "    structure_to_prune='kernel',\n",
    "    prune_dense_layers=False,\n",
    "    iterations=ITERATIONS,\n",
    "    architecture = ARCHITECTURE,\n",
    ")"
   ]
  },
  {
   "cell_type": "code",
   "execution_count": null,
   "metadata": {},
   "outputs": [],
   "source": [
    "experiment.run(\n",
    "    structure='structured',\n",
    "    method='magnitude', \n",
    "    scope='global', \n",
    "    structure_to_prune='filter',\n",
    "    prune_dense_layers=False,\n",
    "    iterations=ITERATIONS,\n",
    "    architecture = ARCHITECTURE,\n",
    ")"
   ]
  },
  {
   "cell_type": "code",
   "execution_count": null,
   "metadata": {},
   "outputs": [],
   "source": [
    "experiment.run(\n",
    "    structure='structured',\n",
    "    method='magnitude', \n",
    "    scope='global', \n",
    "    structure_to_prune='kernel',\n",
    "    prune_dense_layers=False,\n",
    "    iterations=ITERATIONS,\n",
    "    architecture = ARCHITECTURE,\n",
    ")"
   ]
  },
  {
   "cell_type": "code",
   "execution_count": null,
   "metadata": {},
   "outputs": [],
   "source": []
  }
 ],
 "metadata": {
  "kernelspec": {
   "display_name": "Python 3",
   "language": "python",
   "name": "python3"
  },
  "language_info": {
   "codemirror_mode": {
    "name": "ipython",
    "version": 3
   },
   "file_extension": ".py",
   "mimetype": "text/x-python",
   "name": "python",
   "nbconvert_exporter": "python",
   "pygments_lexer": "ipython3",
   "version": "3.8.3"
  }
 },
 "nbformat": 4,
 "nbformat_minor": 4
}
